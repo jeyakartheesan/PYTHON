{
  "nbformat": 4,
  "nbformat_minor": 0,
  "metadata": {
    "kernelspec": {
      "name": "python36",
      "display_name": "Python 3.6",
      "language": "python"
    },
    "language_info": {
      "mimetype": "text/x-python",
      "nbconvert_exporter": "python",
      "name": "python",
      "pygments_lexer": "ipython3",
      "version": "3.6.6",
      "file_extension": ".py",
      "codemirror_mode": {
        "version": 3,
        "name": "ipython"
      }
    },
    "colab": {
      "name": "class1.ipynb",
      "provenance": [],
      "include_colab_link": true
    }
  },
  "cells": [
    {
      "cell_type": "markdown",
      "metadata": {
        "id": "view-in-github",
        "colab_type": "text"
      },
      "source": [
        "<a href=\"https://colab.research.google.com/github/jeyakartheesan/PYTHON/blob/master/class1.ipynb\" target=\"_parent\"><img src=\"https://colab.research.google.com/assets/colab-badge.svg\" alt=\"Open In Colab\"/></a>"
      ]
    },
    {
      "cell_type": "markdown",
      "metadata": {
        "id": "WbkqYi1-UuvX",
        "colab_type": "text"
      },
      "source": [
        "# variable in pyhton"
      ]
    },
    {
      "cell_type": "code",
      "metadata": {
        "trusted": true,
        "id": "dW8qHZPYUuvY",
        "colab_type": "code",
        "colab": {},
        "outputId": "077c4cd8-46aa-441d-a5c7-f0f1d5f7c6c3"
      },
      "source": [
        "a=10 #interger\n",
        "b=10.5 #float\n",
        "c=1+5j #complex\n",
        "str1='string' #string immutable datatype\n",
        "bo=True #boolean False\n",
        "n=None #null data type\n",
        "\n",
        "\n",
        "\n",
        "###Print the Value of All Values####\n",
        "\n",
        "\n",
        "print('A value is :',a)\n",
        "print('B value is :',b)\n",
        "print('C value is :',c)\n",
        "print('String is :',str1)\n",
        "print('Boolean Value is :',bo)\n",
        "print('Null datatype :',n)\n",
        "\n",
        "\n",
        "\n",
        "###DATATYPES of each variables####\n",
        "\n",
        "\n",
        "print(\"\\n\\nData type of each value\")\n",
        "print(type(a))\n",
        "print(type(b))\n",
        "print(type(c))\n",
        "print(type(str1))\n",
        "print(type(bo))\n",
        "print(type(n))"
      ],
      "execution_count": 0,
      "outputs": [
        {
          "output_type": "stream",
          "text": [
            "A value is : 10\n",
            "B value is : 10.5\n",
            "C value is : (1+5j)\n",
            "String is : string\n",
            "Boolean Value is : True\n",
            "Null datatype : None\n",
            "\n",
            "\n",
            "Data type of each value\n",
            "<class 'int'>\n",
            "<class 'float'>\n",
            "<class 'complex'>\n",
            "<class 'str'>\n",
            "<class 'bool'>\n",
            "<class 'NoneType'>\n"
          ],
          "name": "stdout"
        }
      ]
    },
    {
      "cell_type": "markdown",
      "metadata": {
        "id": "b0Gn0bhuUuve",
        "colab_type": "text"
      },
      "source": [
        "# Some different variable"
      ]
    },
    {
      "cell_type": "code",
      "metadata": {
        "trusted": true,
        "id": "FFMfAslUUuvf",
        "colab_type": "code",
        "colab": {},
        "outputId": "a2f6bc69-aeb3-4597-d1c3-f4ff9e549ff7"
      },
      "source": [
        "###varibale declaration####\n",
        "int1=100_00_00\n",
        "a,b,c=1,2,3\n",
        "d,e=[1,2]\n",
        "f,g=(1,2)\n",
        "\n",
        "\n",
        "#######PRINT statement######\n",
        "\n",
        "print('integer values is :',int1)\n",
        "print('a value is :',a,'b value is :',b,'c value is :',c)\n",
        "print('d value is :',d,'e value is :',e)\n",
        "print('f value is :',f,'g value is :',g)"
      ],
      "execution_count": 0,
      "outputs": [
        {
          "output_type": "stream",
          "text": [
            "integer values is : 1000000\n",
            "a value is : 1 b value is : 2 c value is : 3\n",
            "d value is : 1 e value is : 2\n",
            "f value is : 1 g value is : 2\n"
          ],
          "name": "stdout"
        }
      ]
    },
    {
      "cell_type": "markdown",
      "metadata": {
        "id": "hIiUskw6Uuvj",
        "colab_type": "text"
      },
      "source": [
        "# print statements "
      ]
    },
    {
      "cell_type": "code",
      "metadata": {
        "trusted": true,
        "id": "WvjqsPl4Uuvk",
        "colab_type": "code",
        "colab": {},
        "outputId": "225bf8bd-7d5c-4bca-b6b9-53913bbbbf49"
      },
      "source": [
        "a=10\n",
        "b=20\n",
        "c=30\n",
        "s='jk'\n",
        "print('hello\\\n",
        "world\\\n",
        "jk')\n",
        "print('my name is \"jk\"')\n",
        "print(\"my name is 'jk'\")\n",
        "print('''my name's \"jk\" ''')\n",
        "a1=\"\"\"\n",
        "print (\"jk\")\n",
        "\"\"\"\n",
        "print(a1)\n",
        "per={'name':'jk','age':20} ##Dict\n",
        "\n",
        "print('a is %d'% a)\n",
        "print('a is %d and b is %d'%(a,b))\n",
        "print('a is {} and b is {}'.format(a,b))\n",
        "print('a is {2} and b is {1} and c is {0}'.format(a,b,c))\n",
        "\n",
        "print('1my name is {nam} and your age is {ag}'.format(nam=per['name'],ag=per['age']))\n",
        "print('my name is {name} and your age is {age}'.format(**per))\n",
        "\n",
        "print('my name is {n} and your age is {a}'.format(n=s,a=b))\n",
        "b=\"jk\"\n",
        "print(F'b value is {b}')\n",
        "print(f'a value is {a}')\n",
        "\n",
        "print('jk'*100)"
      ],
      "execution_count": 0,
      "outputs": [
        {
          "output_type": "stream",
          "text": [
            "helloworldjk\n",
            "my name is \"jk\"\n",
            "my name is 'jk'\n",
            "my name's \"jk\" \n",
            "\n",
            "print (\"jk\")\n",
            "\n",
            "a is 10\n",
            "a is 10 and b is 20\n",
            "a is 10 and b is 20\n",
            "a is 30 and b is 20 and c is 10\n",
            "1my name is jk and your age is 20\n",
            "my name is jk and your age is 20\n",
            "my name is jk and your age is 20\n",
            "b value is jk\n",
            "a value is 10\n",
            "jkjkjkjkjkjkjkjkjkjkjkjkjkjkjkjkjkjkjkjkjkjkjkjkjkjkjkjkjkjkjkjkjkjkjkjkjkjkjkjkjkjkjkjkjkjkjkjkjkjkjkjkjkjkjkjkjkjkjkjkjkjkjkjkjkjkjkjkjkjkjkjkjkjkjkjkjkjkjkjkjkjkjkjkjkjkjkjkjkjkjkjkjkjkjkjkjkjkjkjk\n"
          ],
          "name": "stdout"
        }
      ]
    },
    {
      "cell_type": "markdown",
      "metadata": {
        "id": "qOYW9rxtUuvp",
        "colab_type": "text"
      },
      "source": [
        "# operators"
      ]
    },
    {
      "cell_type": "markdown",
      "metadata": {
        "id": "cAu_XQh5Uuvq",
        "colab_type": "text"
      },
      "source": [
        "# Arithmatic Operator"
      ]
    },
    {
      "cell_type": "code",
      "metadata": {
        "trusted": true,
        "id": "pvPlK9TqUuvr",
        "colab_type": "code",
        "colab": {},
        "outputId": "9990e357-d17c-4863-aac3-089fa9e299b1"
      },
      "source": [
        "###variable decralation\n",
        "a=10\n",
        "b=20\n",
        "\n",
        "###Addtion\n",
        "c=a+b\n",
        "print(c)\n",
        "###subraction\n",
        "c=b-a\n",
        "print(c)\n",
        "###multiplication\n",
        "c=b*a\n",
        "print(c)\n",
        "###Division\n",
        "c=b/a\n",
        "print(c)\n",
        "###Modulus\n",
        "c=a%b\n",
        "print(c)\n",
        "###Exponentiation\n",
        "print(a**2)\n",
        "###Floor division\n",
        "c=b//a\n",
        "print(c)\n"
      ],
      "execution_count": 0,
      "outputs": [
        {
          "output_type": "stream",
          "text": [
            "30\n",
            "10\n",
            "200\n",
            "2.0\n",
            "10\n",
            "100\n",
            "2\n"
          ],
          "name": "stdout"
        }
      ]
    },
    {
      "cell_type": "markdown",
      "metadata": {
        "id": "IP8tl0lgUuvv",
        "colab_type": "text"
      },
      "source": [
        "# Assignment Operators"
      ]
    },
    {
      "cell_type": "code",
      "metadata": {
        "trusted": true,
        "id": "42DSgvLqUuvw",
        "colab_type": "code",
        "colab": {},
        "outputId": "57cac6cd-5e74-4619-c3b4-5cbe70dd5aa9"
      },
      "source": [
        "x = 5\n",
        "print('Equal operator :',x)\n",
        "x+=1 #x=x+1\n",
        "print('Addtion :',x)\n",
        "x-=1\n",
        "print('subraction :',x)\n",
        "x*=1\n",
        "print('Multiple :',x)\n",
        "x/=1\n",
        "print('Division :',x)\n",
        "x %= 3\n",
        "print('modules :',x)\n",
        "x=6\n",
        "x //= 3\n",
        "print('floor division :',x)\n",
        "\n",
        "x **= 3\n",
        "print('Exponentation :',x)\n",
        "x=5\n",
        "x &= 3\n",
        "print('And :',x)\n",
        "x |= 3\n",
        "print('Or :',x)\n",
        "x=5\n",
        "x ^= 3\n",
        "print('xor :',x)\n",
        "x=9\n",
        "x>>=3\n",
        "print('left shift :',x)\n",
        "x<<=3\n",
        "print('right shift :',x)\n",
        "\n"
      ],
      "execution_count": 0,
      "outputs": [
        {
          "output_type": "stream",
          "text": [
            "Equal operator : 5\n",
            "Addtion : 6\n",
            "subraction : 5\n",
            "Multiple : 5\n",
            "Division : 5.0\n",
            "modules : 2.0\n",
            "floor division : 2\n",
            "Exponentation : 8\n",
            "And : 1\n",
            "Or : 3\n",
            "xor : 6\n",
            "left shift : 1\n",
            "right shift : 8\n"
          ],
          "name": "stdout"
        }
      ]
    },
    {
      "cell_type": "markdown",
      "metadata": {
        "id": "fJZddtSfUuv0",
        "colab_type": "text"
      },
      "source": [
        "# Comparison Operators"
      ]
    },
    {
      "cell_type": "code",
      "metadata": {
        "trusted": true,
        "id": "COjihDB8Uuv1",
        "colab_type": "code",
        "colab": {},
        "outputId": "491ff7ff-40a9-424f-d737-522737661923"
      },
      "source": [
        "a=10\n",
        "b=20\n",
        "print('''\n",
        "equal opeartor :{}\n",
        "not equal opeartor :{}\n",
        "Greater than :{}\n",
        "Less than :{}\n",
        "Greater than or equal to :{}\n",
        "Less than or equal to :{}\n",
        "'''.format(a==b,a!=b,a>b,a<b,a>=b,a<=b))"
      ],
      "execution_count": 0,
      "outputs": [
        {
          "output_type": "stream",
          "text": [
            "\n",
            "equal opeartor :False\n",
            "not equal opeartor :True\n",
            "Greater than :False\n",
            "Less than :True\n",
            "Greater than or equal to :False\n",
            "Less than or equal to :True\n",
            "\n"
          ],
          "name": "stdout"
        }
      ]
    },
    {
      "cell_type": "markdown",
      "metadata": {
        "id": "b1Nw1p86Uuv6",
        "colab_type": "text"
      },
      "source": [
        "# Logical Operators"
      ]
    },
    {
      "cell_type": "code",
      "metadata": {
        "trusted": true,
        "id": "SnDB5uMQUuv7",
        "colab_type": "code",
        "colab": {},
        "outputId": "4c8d448e-92c9-43ea-870e-8694f6dcece1"
      },
      "source": [
        "a=True\n",
        "b=False\n",
        "\n",
        "\n",
        "print('''\n",
        "and opearation:{}\n",
        "or opearation :{}\n",
        "not operation :{}\n",
        "{}\n",
        "'''.format(a and b ,a or b, a and not b,not b))"
      ],
      "execution_count": 0,
      "outputs": [
        {
          "output_type": "stream",
          "text": [
            "\n",
            "and opearation:False\n",
            "or opearation :True\n",
            "not operation :True\n",
            "True\n",
            "\n"
          ],
          "name": "stdout"
        }
      ]
    },
    {
      "cell_type": "markdown",
      "metadata": {
        "id": "4YJw5bTXUuv_",
        "colab_type": "text"
      },
      "source": [
        "# Identity Operators"
      ]
    },
    {
      "cell_type": "code",
      "metadata": {
        "trusted": true,
        "id": "tQwqDcNJUuv_",
        "colab_type": "code",
        "colab": {},
        "outputId": "0a3c4cc1-5d4a-4d7f-b80d-7790d5e2f2a7"
      },
      "source": [
        "a=257\n",
        "b=257\n",
        "\n",
        "print('''\n",
        "is operation :{}\n",
        "is not operation :{}\n",
        "'''.format(a is b,a is not b))\n",
        "c=b\n",
        "print('''\n",
        "is operation :{}\n",
        "is not operation :{}\n",
        "'''.format(c is b,a is not b))"
      ],
      "execution_count": 0,
      "outputs": [
        {
          "output_type": "stream",
          "text": [
            "\n",
            "is operation :False\n",
            "is not operation :True\n",
            "\n",
            "\n",
            "is operation :True\n",
            "is not operation :True\n",
            "\n"
          ],
          "name": "stdout"
        }
      ]
    },
    {
      "cell_type": "markdown",
      "metadata": {
        "id": "sO6JHFoAUuwE",
        "colab_type": "text"
      },
      "source": [
        "# Membership Operators"
      ]
    },
    {
      "cell_type": "code",
      "metadata": {
        "trusted": true,
        "id": "-56LmL4eUuwE",
        "colab_type": "code",
        "colab": {},
        "outputId": "fa30451e-d268-4593-ac38-f777c34b02a6"
      },
      "source": [
        "str1=\"my name is jk\"\n",
        "list1=[\"jk\",\"hello\",\"welcome\"]\n",
        "print('''\n",
        "in operation :{}\n",
        "not in operation :{}\n",
        "'''.format('jk' in str1,'jk' not in str1))\n",
        "print('''\n",
        "in operation :{}\n",
        "not in operation :{}\n",
        "'''.format('jk' in list1, 'kj' not in list1))"
      ],
      "execution_count": 0,
      "outputs": [
        {
          "output_type": "stream",
          "text": [
            "\n",
            "in operation :True\n",
            "not in operation :False\n",
            "\n",
            "\n",
            "in operation :True\n",
            "not in operation :True\n",
            "\n"
          ],
          "name": "stdout"
        }
      ]
    },
    {
      "cell_type": "markdown",
      "metadata": {
        "id": "W0Eu0qNsUuwI",
        "colab_type": "text"
      },
      "source": [
        "# Bitwise Operators"
      ]
    },
    {
      "cell_type": "code",
      "metadata": {
        "trusted": true,
        "id": "EFpgIkjPUuwJ",
        "colab_type": "code",
        "colab": {}
      },
      "source": [
        "print('''\n",
        "and :{}\n",
        "or :{}\n",
        "xor :{}\n",
        "        #0010\n",
        "        #0011\n",
        "        #0011\n",
        "not :{}\n",
        "left shift :{}\n",
        "right shift :{}\n",
        "'''.format(4&5,2 |3,2^ 3,~8,1<<3,9>>3))"
      ],
      "execution_count": 0,
      "outputs": []
    },
    {
      "cell_type": "markdown",
      "metadata": {
        "id": "Mk56GYyyUuwN",
        "colab_type": "text"
      },
      "source": [
        "# CONDITIONAL STATEMENTS"
      ]
    },
    {
      "cell_type": "code",
      "metadata": {
        "trusted": true,
        "id": "9Wbw9iu_UuwN",
        "colab_type": "code",
        "colab": {},
        "outputId": "8637eb2d-2600-43f1-8966-abb3d9463b3c"
      },
      "source": [
        "a=10\n",
        "b=20\n",
        "if a==b:\n",
        "    print('equals')\n",
        "else:\n",
        "    print('not equals')\n",
        "    \n",
        "####if elif and else\n",
        "a=25\n",
        "if a>20:\n",
        "    print(\"above 20\")\n",
        "elif a>50:\n",
        "    print('above 50')\n",
        "else:\n",
        "    print('not')\n",
        "    \n",
        "\n",
        "###nested if\n",
        "a=50\n",
        "if a==50:\n",
        "    b=25\n",
        "    if b==25:\n",
        "        print(f'a is {a} and b is {b}')\n",
        "        \n"
      ],
      "execution_count": 0,
      "outputs": [
        {
          "output_type": "stream",
          "text": [
            "not equals\n",
            "above 20\n",
            "a is 50 and b is 25\n"
          ],
          "name": "stdout"
        }
      ]
    },
    {
      "cell_type": "markdown",
      "metadata": {
        "id": "L5Q2m_F9UuwT",
        "colab_type": "text"
      },
      "source": [
        "# Looping statement"
      ]
    },
    {
      "cell_type": "code",
      "metadata": {
        "trusted": true,
        "id": "F0DeShR2UuwU",
        "colab_type": "code",
        "colab": {}
      },
      "source": [
        "###While loop\n",
        "#syntax\n",
        "\n",
        "\n",
        "c=''\n",
        "while True:\n",
        "    c=input('> ')\n",
        "    if c == 'start':\n",
        "        print('strat')\n",
        "    elif c == 'stop':\n",
        "        print('stop')\n",
        "    elif c == 'quit':\n",
        "        break\n",
        "    else:\n",
        "        print('invalid key')\n",
        "\n",
        "\n"
      ],
      "execution_count": 0,
      "outputs": []
    },
    {
      "cell_type": "code",
      "metadata": {
        "trusted": true,
        "id": "-41dLfg-UuwY",
        "colab_type": "code",
        "colab": {},
        "outputId": "f0ece5d1-b981-401d-f366-ec3af4ee3fd3"
      },
      "source": [
        "### for loop statement\n",
        "print('range 1')\n",
        "for i in range(5):\n",
        "    print(i)\n",
        "print('single aligration')\n",
        "for i in range(0,10):\n",
        "    print(i)\n",
        "\n",
        "print('Double aligration')\n",
        "for i in range(0,10,2):\n",
        "    print(i)\n",
        "\n",
        "print('List value') \n",
        "list1=[1,2,2,4,5]\n",
        "for i in list1:\n",
        "    print(i)\n",
        "print('Furits')\n",
        "fruits = [\"apple\", \"banana\", \"cherry\"]\n",
        "for x in fruits:\n",
        "  if x == \"banana\":\n",
        "    continue\n",
        "  print(x)\n",
        "\n",
        "\n",
        "for x in range(6):\n",
        "  print(x)\n",
        "else:\n",
        "  print(\"Finally finished!\")"
      ],
      "execution_count": 0,
      "outputs": [
        {
          "output_type": "stream",
          "text": [
            "range 1\n",
            "0\n",
            "1\n",
            "2\n",
            "3\n",
            "4\n",
            "single aligration\n",
            "0\n",
            "1\n",
            "2\n",
            "3\n",
            "4\n",
            "5\n",
            "6\n",
            "7\n",
            "8\n",
            "9\n",
            "Double aligration\n",
            "0\n",
            "2\n",
            "4\n",
            "6\n",
            "8\n",
            "List value\n",
            "1\n",
            "2\n",
            "2\n",
            "4\n",
            "5\n",
            "Furits\n",
            "apple\n",
            "cherry\n",
            "0\n",
            "1\n",
            "2\n",
            "3\n",
            "4\n",
            "5\n",
            "Finally finished!\n"
          ],
          "name": "stdout"
        }
      ]
    },
    {
      "cell_type": "code",
      "metadata": {
        "trusted": true,
        "id": "Q0I8NgmMUuwc",
        "colab_type": "code",
        "colab": {}
      },
      "source": [
        "# string\n",
        "# list \n",
        "# tuple\n",
        "# dict\n",
        "# set"
      ],
      "execution_count": 0,
      "outputs": []
    }
  ]
}